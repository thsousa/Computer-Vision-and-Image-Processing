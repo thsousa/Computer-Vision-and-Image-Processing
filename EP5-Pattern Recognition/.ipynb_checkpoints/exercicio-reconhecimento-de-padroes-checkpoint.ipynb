{
 "cells": [
  {
   "cell_type": "markdown",
   "metadata": {},
   "source": [
    "# Exercício Reconhecimento de Padrões"
   ]
  },
  {
   "cell_type": "markdown",
   "metadata": {
    "collapsed": true
   },
   "source": [
    "Thais Lima de Sousa nUSP 8941220"
   ]
  },
  {
   "cell_type": "code",
   "execution_count": 22,
   "metadata": {
    "collapsed": true
   },
   "outputs": [],
   "source": [
    "from vpi.io import *\n",
    "from vpi.binary_morphology import *\n",
    "import os"
   ]
  },
  {
   "cell_type": "markdown",
   "metadata": {},
   "source": [
    "<p> \n",
    "    <strong>1.)</strong> Implemente um classficador dos vizinhos mais próximos (KNN - k-nearest-neighbors) para a \n",
    "    classificação de imagens binárias de folhas de árvores. Na implementação desse classificador considere os \n",
    "    seguintes items:\n",
    "    \n",
    "    <ul>\n",
    "        <li> Defina uma função de distância </li>\n",
    "        <li> Escolha o valor de K </li>\n",
    "        <li> A base de imagens são constituídas de imagens binárias e possuem apenas um componente conexo </li>\n",
    "        <li> Considere as seguintes regiões das imagens (veja a imagem abaixo como exemplo):</li>\n",
    "        <ul>\n",
    "            <li>\n",
    "                <strong>Metade Esquerda</strong>: Dívida a imagem verticalmente ao meio é a região da esquerda.\n",
    "            </li>\n",
    "            <li>\n",
    "                <strong>Metade Direita</strong>: Dívida a imagem verticalmente ao meio é a região da direita.\n",
    "            </li>\n",
    "            <li>\n",
    "                <strong>Metade de cima</strong>: Dívida a imagem horizontalmente ao meio é a região de cima.\n",
    "            </li>\n",
    "            <li>\n",
    "                <strong>Metade de baixo</strong>: Dívida a imagem horizontalmente ao meio é a região de baixo.\n",
    "            </li>\n",
    "        </ul>\n",
    "        <li> Utilize as seguintes caracteristicas para seu classificador </li>\n",
    "        <ul>\n",
    "            <li> Área da componente conexa da imagem </li>\n",
    "            <li> Altura da imagem com peso 10000 </li>\n",
    "            <li> Largura da imagem com peso 10000 </li>\n",
    "            <li> Área dos componentes conexos da região da metade esquerda </li>\n",
    "            <li> Área dos componentes conexos da região da metade direita </li>\n",
    "            <li> Área dos componentes conexos da região da metade de cima </li>\n",
    "            <li> Área dos componentes conexos da região da metade de baixo </li>\n",
    "        </ul>\n",
    "    </ul>\n",
    "</p>\n",
    "\n",
    "<div>\n",
    "    <img src=\"images/example.png\"/>\n",
    "</div>\n",
    "\n",
    "<p>\n",
    "    Para o treinamento utilize as imagens binárias disponíveis em \"dataset/train\", onde cada pasta representa uma\n",
    "    classe e as imagens dentro de cada pasta devem ser utilizadas para extrair características da classe no espaço\n",
    "    de características. Por exemplo: a imagem em \"./dataset/train/Alnus sp/iPAD2_C04_EX02_B.png\" deve ser utilizada \n",
    "    para extração de características de um ponto da classe \"Alnus sp\".\n",
    "</p>\n",
    "\n",
    "<p>\n",
    "    Seu classificador deve ter uma função de classificação que recebe um vetor de características (as\n",
    "    caracteristicas citadas acima) e devolve a qual classe esse ponto pertence (lembre-se de que o classificador não\n",
    "    necessita ser 100% preciso, assim como ocorre geralmente na prática).\n",
    "</p>\n"
   ]
  },
  {
   "cell_type": "code",
   "execution_count": 23,
   "metadata": {
    "collapsed": false
   },
   "outputs": [],
   "source": [
    "C = {'Quercus suber': 1, 'Salix atrocinerea': 2, 'Populus nigra': 3, 'Alnus sp': 4, 'Quercus robur': 5,\n",
    "          'Crataegus monogyna': 6, 'Ilex aquifolium': 7, 'Nerium oleander': 8, 'Betula pubescens': 9, \n",
    "          'Tilia tomentosa': 10}"
   ]
  },
  {
   "cell_type": "code",
   "execution_count": 24,
   "metadata": {
    "collapsed": false
   },
   "outputs": [],
   "source": [
    "def dist(X, x):\n",
    "    return np.sum((np.sqrt((1.0*X - 1.0*x) ** 2)), axis = 1)\n",
    "\n",
    "def knn(Xtest, Y, X, k = 3):\n",
    "        # Xtest: amostras; Y: rótulo das classes das amostras de treinamento;\n",
    "        # X: amostras de treinamento; k: número de vizinhos do classificador;\n",
    "        # Ytest: classes das amostras Xtest\n",
    "        \n",
    "        Ytest = np.zeros((Xtest.shape[0],))\n",
    "        \n",
    "        for i in range(Xtest.shape[0]):\n",
    "            d = dist(X, Xtest[i])\n",
    "            labels = np.argsort(d)\n",
    "            knn = Y[labels[0:k]].astype(int)\n",
    "            Ytest[i] = np.argmax(np.bincount(knn))\n",
    "        \n",
    "        return Ytest.astype(int)\n",
    "\n",
    "def features(imgname):\n",
    "    img = read_binary_image(imgname)\n",
    "    F = np.ndarray((7, ))\n",
    "\n",
    "    # área da componente conexa da imagem\n",
    "    F[0] = np.max(calculate_connected_components_area(img))\n",
    "    # altura da imagem com peso 10000\n",
    "    F[1] = 10000 * img.shape[0]\n",
    "    # largura da imagem com peso 10000\n",
    "    F[2] = 10000 * img.shape[1]\n",
    "    # área dos componentes conexos da região da metade esquerda\n",
    "    F[3] = np.max(calculate_connected_components_area(img[:, :int(img.shape[1] / 2)]))\n",
    "    # área dos componentes conexos da região da metade direita\n",
    "    F[4] = np.max(calculate_connected_components_area(img[:, int(img.shape[1] / 2):]))\n",
    "    # área dos componentes conexos da região da metade de cima\n",
    "    F[5] = np.max(calculate_connected_components_area(img[:int(img.shape[0] / 2), :]))\n",
    "    # área dos componentes conexos da região da metade de baixo\n",
    "    F[6] = np.max(calculate_connected_components_area(img[int(img.shape[0] / 2):, :]))\n",
    "        \n",
    "    return F.astype('uint32')   "
   ]
  },
  {
   "cell_type": "code",
   "execution_count": 25,
   "metadata": {
    "collapsed": false
   },
   "outputs": [],
   "source": [
    "# encontra número de classes e número de amostras\n",
    "path = './dataset/train'\n",
    "m = 0\n",
    "for dirname in os.listdir(path):\n",
    "    m += len(os.listdir(path + '/'+ dirname))\n",
    "\n",
    "Y = np.ndarray((m,), 'uint32')\n",
    "X = np.ndarray((m, 7), 'uint32')\n",
    "\n",
    "i = 0\n",
    "for dirname in os.listdir(path):\n",
    "    for filename in os.listdir(path + '/'+ dirname):\n",
    "        Y[i] = C[dirname]\n",
    "        X[i, :] = features(path + '/' + dirname + '/' + filename)\n",
    "        i += 1"
   ]
  },
  {
   "cell_type": "markdown",
   "metadata": {},
   "source": [
    "<p>\n",
    "    <strong>2.)</strong> Utilize as imagens na pasta \"./dataset/test\" para testar seu classificador, assim como os\n",
    "    dados de treinamento, as imagens de testes estão em pastas que representam sua classe. Por exemplo, a imagem\n",
    "    \"./dataset/test/Tilia tomentosa/iPAD2_C10_EX02_B.png\" é uma imagem da classe \"Tilia tomentosa\". Exiba qual \n",
    "    a precisão de seu classificador exibindo a porcentagem de acerto do classificador baseado nessas imagens de\n",
    "    testes.\n",
    "</p>"
   ]
  },
  {
   "cell_type": "code",
   "execution_count": 26,
   "metadata": {
    "collapsed": false
   },
   "outputs": [],
   "source": [
    "path = './dataset/test'\n",
    "n = 0\n",
    "for dirname in os.listdir(path):\n",
    "    n += len(os.listdir(path + '/'+ dirname))\n",
    "\n",
    "Xtest = np.ndarray((n, 7), 'uint32')\n",
    "Ytest = np.ndarray((n,), 'uint32')\n",
    "\n",
    "i = 0\n",
    "for dirname in os.listdir(path):\n",
    "    for filename in os.listdir(path + '/'+ dirname):\n",
    "        Ytest[i] = C[dirname]\n",
    "        Xtest[i] = features(path + '/' + dirname + '/' + filename) \n",
    "        i += 1"
   ]
  },
  {
   "cell_type": "code",
   "execution_count": 31,
   "metadata": {
    "collapsed": false
   },
   "outputs": [
    {
     "name": "stdout",
     "output_type": "stream",
     "text": [
      "21 acertos em 32 amostras = 65 % de precisão\n"
     ]
    }
   ],
   "source": [
    "myYt = knn(Xtest, Y, X)\n",
    "hits = (myYt == Ytest).sum()\n",
    "percentage = hits / n * 100\n",
    "print('%d acertos em %d amostras = %d %% de precisão'% (hits, n, percentage))"
   ]
  },
  {
   "cell_type": "markdown",
   "metadata": {},
   "source": [
    "<p>\n",
    "    <strong>3.)</strong> Implemente uma função de redução de dimensionalidade utilizando os conceitos de PCA visto\n",
    "    em aula. Sua função deve receber um conjunto de vetores de caracteristicas e um valor inteiro $n$, e devolver \n",
    "    a combinação dessas caracteristicas (utilizando PCA) com a dimensão reduzida para \"$n$\" características.\n",
    "</p>"
   ]
  },
  {
   "cell_type": "code",
   "execution_count": 28,
   "metadata": {
    "collapsed": false
   },
   "outputs": [],
   "source": [
    "def reduc_pca(X, n):\n",
    "    H = X.shape[0]\n",
    "    mu = X.mean(axis = 0)  \n",
    "    C = ((X - mu).T).dot(X - mu) / (H - 1)\n",
    "    e,V = np.linalg.eigh(C)    \n",
    "    indexes = np.argsort(e)[::-1]\n",
    "    e  = e [indexes]\n",
    "    V = V[:,indexes]\n",
    "    Xnew = (X-mu).dot(V)\n",
    "    \n",
    "    return Xnew[:,:n]"
   ]
  },
  {
   "cell_type": "markdown",
   "metadata": {},
   "source": [
    "<p>\n",
    "    <strong>4.)</strong> Utilize a função de redução de dimensionalidade para reduzir o seu vetor de\n",
    "    características de treinamento para 2 dimensões e utilizando as funções do matplotlib\n",
    "    (http://matplotlib.org/gallery.html) plote um gráfico de dispersão (*scatter plot*) onde cada classe é representado por uma forma e uma cor diferente.\n",
    "</p>"
   ]
  },
  {
   "cell_type": "code",
   "execution_count": 32,
   "metadata": {
    "collapsed": false
   },
   "outputs": [
    {
     "data": {
      "image/png": "[encoded data removed]",
      "text/plain": [
       "<matplotlib.figure.Figure at 0x7fbe56d23a58>"
      ]
     },
     "metadata": {},
     "output_type": "display_data"
    }
   ],
   "source": [
    "import matplotlib.pyplot as plt\n",
    "%matplotlib inline\n",
    "\n",
    "X2 = reduc_pca(X, 2).astype(int)\n",
    "ncolors = np.random.rand(30).reshape(10, 3)\n",
    "markers = (u'o', u'v', u'^', u'<', u'8', u's', u'p', u'*', u'h', u'H')\n",
    "\n",
    "for i in range(X2.shape[0]):\n",
    "    plt.scatter(X2[i,0], X2[i,1], s = 100, alpha = 0.75, c = ncolors[Y[i] - 1], marker = markers[Y[i] - 1])\n",
    "plt.show()"
   ]
  },
  {
   "cell_type": "markdown",
   "metadata": {},
   "source": [
    "<p>\n",
    "    <strong>5.)</strong> Discuta sua taxa de erro do exercício 2 com a distribuição dos pontos do gráfico plotado\n",
    "    do exercício anterior, discutindo por que seu classificador obteve a taxa de erro.\n",
    "</p>"
   ]
  },
  {
   "cell_type": "markdown",
   "metadata": {
    "collapsed": true
   },
   "source": [
    "<strong>R: </strong> Sabemos que o desempenho dos classificadores é altamente proporcional ao quanto as classes estão separadas, e pelo gráfico, podemos observar que as classes das amostras de treinamento não estão bem distribuídas (observe a região do gráfico delimitada pelas coordenadas | 1000000 | < x e |1500000| < y). Portanto, o erro obtido no processo de classificação é devido às classes que se aglomeraram."
   ]
  },
  {
   "cell_type": "code",
   "execution_count": null,
   "metadata": {
    "collapsed": true
   },
   "outputs": [],
   "source": []
  }
 ],
 "metadata": {
  "kernelspec": {
   "display_name": "Python 3",
   "language": "python",
   "name": "python3"
  },
  "language_info": {
   "codemirror_mode": {
    "name": "ipython",
    "version": 3
   },
   "file_extension": ".py",
   "mimetype": "text/x-python",
   "name": "python",
   "nbconvert_exporter": "python",
   "pygments_lexer": "ipython3",
   "version": "3.5.1"
  }
 },
 "nbformat": 4,
 "nbformat_minor": 0
}
