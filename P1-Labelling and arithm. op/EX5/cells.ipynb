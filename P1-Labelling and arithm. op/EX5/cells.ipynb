{
 "cells": [
  {
   "cell_type": "markdown",
   "metadata": {},
   "source": [
    "Nome: Thais Lima de Sousa nUSP 8941220"
   ]
  },
  {
   "cell_type": "code",
   "execution_count": 15,
   "metadata": {
    "collapsed": false
   },
   "outputs": [],
   "source": [
    "from vpi.io import *\n",
    "from collections import deque\n",
    "import numpy as np"
   ]
  },
  {
   "cell_type": "markdown",
   "metadata": {},
   "source": [
    "# Exercício 5 - P1"
   ]
  },
  {
   "cell_type": "markdown",
   "metadata": {},
   "source": [
    "<p> <b> Identificação do número de células com furo e células sem furo através de rotulação:</b></p>\n",
    "<p>Identificação do número de furos: a imagem é rotulada a partir da cor branca. Dessa forma, os furos das células e o fundo formam componentes conexas.</p><p>\n",
    "Identificação do número de células: a imagem é rotulada a partir da cor preta e o número de componentes conexas nos dá a resposta. Observe que há um pequeno fragmento preto no canto superior direito da imagem que é contado como célula.</p>"
   ]
  },
  {
   "cell_type": "code",
   "execution_count": 16,
   "metadata": {
    "collapsed": false,
    "scrolled": true
   },
   "outputs": [
    {
     "data": {
      "image/png": "[encoded data removed]",
      "text/plain": [
       "<IPython.core.display.Image object>"
      ]
     },
     "metadata": {},
     "output_type": "display_data"
    }
   ],
   "source": [
    "f = read_image('pecas_img.png')\n",
    "display_image(f)"
   ]
  },
  {
   "cell_type": "code",
   "execution_count": 17,
   "metadata": {
    "collapsed": true
   },
   "outputs": [],
   "source": [
    "def neighbours(f, p):\n",
    "    list = []\n",
    "    if p[0] - 1 >= 0:\n",
    "        list.append((p[0] - 1, p[1]))\n",
    "    if p[1] - 1 >= 0:\n",
    "        list.append((p[0], p[1] - 1))\n",
    "    if p[0] + 1 < f.shape[0]:\n",
    "        list.append((p[0] + 1, p[1]))\n",
    "    if p[1] + 1 < f.shape[1]:\n",
    "        list.append((p[0], p[1] + 1))\n",
    "    return list"
   ]
  },
  {
   "cell_type": "code",
   "execution_count": 18,
   "metadata": {
    "collapsed": false
   },
   "outputs": [],
   "source": [
    "def label(f, colour):\n",
    "    g = np.zeros(f.shape).astype(int)\n",
    "    label = 0\n",
    "    queue = deque()\n",
    "    for x in range(f.shape[0]):\n",
    "        for y in range(f.shape[1]):\n",
    "            p = (x, y)\n",
    "            \n",
    "            if (f[p] == colour) & (g[p] == 0):\n",
    "                queue.append(p)\n",
    "                label = label + 1\n",
    "                g[p] = label\n",
    "                \n",
    "            while queue:\n",
    "                r = queue.popleft()\n",
    "                for s in neighbours(f, r):\n",
    "                    if (f[s] == colour) & (g[s] == 0):\n",
    "                        g[s] = label\n",
    "                        queue.append(s)\n",
    "    return g\n",
    "            "
   ]
  },
  {
   "cell_type": "code",
   "execution_count": 19,
   "metadata": {
    "collapsed": false
   },
   "outputs": [
    {
     "name": "stdout",
     "output_type": "stream",
     "text": [
      "number of cells=  15 \n",
      "number of cells with holes=  5\n"
     ]
    }
   ],
   "source": [
    "cell_holes = label(f, 255)\n",
    "# number of cells with holes\n",
    "holes = cell_holes.max() - 1\n",
    "\n",
    "fcells = label(f, 0)\n",
    "#total number of cells\n",
    "ncells = fcells.max()\n",
    "\n",
    "print('number of cells= ', ncells, '\\nnumber of cells with holes= ', holes)"
   ]
  },
  {
   "cell_type": "code",
   "execution_count": null,
   "metadata": {
    "collapsed": true
   },
   "outputs": [],
   "source": []
  }
 ],
 "metadata": {
  "kernelspec": {
   "display_name": "Python 3",
   "language": "python",
   "name": "python3"
  },
  "language_info": {
   "codemirror_mode": {
    "name": "ipython",
    "version": 3
   },
   "file_extension": ".py",
   "mimetype": "text/x-python",
   "name": "python",
   "nbconvert_exporter": "python",
   "pygments_lexer": "ipython3",
   "version": "3.5.1"
  }
 },
 "nbformat": 4,
 "nbformat_minor": 0
}
